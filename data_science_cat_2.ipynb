{
  "nbformat": 4,
  "nbformat_minor": 0,
  "metadata": {
    "colab": {
      "provenance": [],
      "authorship_tag": "ABX9TyPXrVquhAMtK/1y1H1Kugvi",
      "include_colab_link": true
    },
    "kernelspec": {
      "name": "python3",
      "display_name": "Python 3"
    },
    "language_info": {
      "name": "python"
    }
  },
  "cells": [
    {
      "cell_type": "markdown",
      "metadata": {
        "id": "view-in-github",
        "colab_type": "text"
      },
      "source": [
        "<a href=\"https://colab.research.google.com/github/Royshim/data-science-cat-2/blob/main/data_science_cat_2.ipynb\" target=\"_parent\"><img src=\"https://colab.research.google.com/assets/colab-badge.svg\" alt=\"Open In Colab\"/></a>"
      ]
    },
    {
      "cell_type": "code",
      "execution_count": 17,
      "metadata": {
        "id": "lFpKHeJe8NbZ"
      },
      "outputs": [],
      "source": [
        "import pandas as pd\n",
        "import numpy as np\n",
        "from sklearn.model_selection import train_test_split\n",
        "from sklearn.ensemble import RandomForestClassifier\n",
        "from sklearn.preprocessing import LabelEncoder, StandardScaler\n",
        "from sklearn.metrics import classification_report, accuracy_score\n",
        "import seaborn as sns\n",
        "import matplotlib.pyplot as plt\n",
        "import random\n",
        "from deap import base, creator, tools\n",
        "from tabulate import tabulate\n"
      ]
    },
    {
      "cell_type": "code",
      "source": [
        "# Load dataset\n",
        "file_path = \"/content/student_performance_data.csv\"\n",
        "df = pd.read_csv(file_path)\n",
        "\n",
        "# first 30 rows\n",
        "print(\"\\n FIRST 30 STUDENT RECORDS \\n\")\n",
        "print(tabulate(df.head(30), headers='keys', tablefmt='fancy_grid'))\n"
      ],
      "metadata": {
        "colab": {
          "base_uri": "https://localhost:8080/"
        },
        "id": "zJYJB9yfI9cY",
        "outputId": "87ee108e-2b0a-4dc0-d49c-c60a3627ad19"
      },
      "execution_count": 55,
      "outputs": [
        {
          "output_type": "stream",
          "name": "stdout",
          "text": [
            "\n",
            " FIRST 30 STUDENT RECORDS \n",
            "\n",
            "╒════╤══════════════╤═══════╤════════════╤═════════════╤═══════╤═════════════╤═════════════════╤══════════════════╤═══════════════════╤═══════════════════════╤══════════════════════╕\n",
            "│    │   Student_ID │   Age │ Gender     │ Ethnicity   │   GPA │   SAT_Score │ Financial_Aid   │ Major            │   Attendance_Rate │   Work_Hours_Per_Week │   Enrolled_Next_Year │\n",
            "╞════╪══════════════╪═══════╪════════════╪═════════════╪═══════╪═════════════╪═════════════════╪══════════════════╪═══════════════════╪═══════════════════════╪══════════════════════╡\n",
            "│  0 │            0 │    24 │ Male       │ Asian       │  3.56 │         820 │ nan             │ Engineering      │              0.66 │                    10 │                    0 │\n",
            "├────┼──────────────┼───────┼────────────┼─────────────┼───────┼─────────────┼─────────────────┼──────────────────┼───────────────────┼───────────────────────┼──────────────────────┤\n",
            "│  1 │            1 │    25 │ Male       │ Hispanic    │  2.29 │         930 │ Partial         │ Biology          │              0.99 │                    29 │                    1 │\n",
            "├────┼──────────────┼───────┼────────────┼─────────────┼───────┼─────────────┼─────────────────┼──────────────────┼───────────────────┼───────────────────────┼──────────────────────┤\n",
            "│  2 │            2 │    19 │ Male       │ White       │  2.61 │         821 │ Full            │ Arts             │              0.61 │                    26 │                    0 │\n",
            "├────┼──────────────┼───────┼────────────┼─────────────┼───────┼─────────────┼─────────────────┼──────────────────┼───────────────────┼───────────────────────┼──────────────────────┤\n",
            "│  3 │            3 │    27 │ Non-Binary │ Asian       │  2.76 │        1043 │ Full            │ Business         │              0.94 │                     6 │                    0 │\n",
            "├────┼──────────────┼───────┼────────────┼─────────────┼───────┼─────────────┼─────────────────┼──────────────────┼───────────────────┼───────────────────────┼──────────────────────┤\n",
            "│  4 │            4 │    26 │ Non-Binary │ Black       │  3.9  │        1115 │ Partial         │ Engineering      │              0.75 │                    25 │                    0 │\n",
            "├────┼──────────────┼───────┼────────────┼─────────────┼───────┼─────────────┼─────────────────┼──────────────────┼───────────────────┼───────────────────────┼──────────────────────┤\n",
            "│  5 │            5 │    19 │ Non-Binary │ Hispanic    │  2.24 │        1308 │ nan             │ Business         │              0.96 │                    35 │                    1 │\n",
            "├────┼──────────────┼───────┼────────────┼─────────────┼───────┼─────────────┼─────────────────┼──────────────────┼───────────────────┼───────────────────────┼──────────────────────┤\n",
            "│  6 │            6 │    25 │ Female     │ Black       │  3.14 │        1276 │ nan             │ Engineering      │              0.91 │                    33 │                    1 │\n",
            "├────┼──────────────┼───────┼────────────┼─────────────┼───────┼─────────────┼─────────────────┼──────────────────┼───────────────────┼───────────────────────┼──────────────────────┤\n",
            "│  7 │            7 │    21 │ Female     │ Hispanic    │  2.09 │        1095 │ Full            │ Biology          │              0.71 │                    23 │                    1 │\n",
            "├────┼──────────────┼───────┼────────────┼─────────────┼───────┼─────────────┼─────────────────┼──────────────────┼───────────────────┼───────────────────────┼──────────────────────┤\n",
            "│  8 │            8 │    26 │ Male       │ White       │  2.59 │         864 │ Full            │ Computer Science │              0.91 │                     7 │                    1 │\n",
            "├────┼──────────────┼───────┼────────────┼─────────────┼───────┼─────────────┼─────────────────┼──────────────────┼───────────────────┼───────────────────────┼──────────────────────┤\n",
            "│  9 │            9 │    28 │ Non-Binary │ White       │  3.42 │        1218 │ Full            │ Business         │              0.63 │                    38 │                    1 │\n",
            "├────┼──────────────┼───────┼────────────┼─────────────┼───────┼─────────────┼─────────────────┼──────────────────┼───────────────────┼───────────────────────┼──────────────────────┤\n",
            "│ 10 │           10 │    26 │ Non-Binary │ White       │  3.25 │         832 │ nan             │ Biology          │              0.89 │                    39 │                    1 │\n",
            "├────┼──────────────┼───────┼────────────┼─────────────┼───────┼─────────────┼─────────────────┼──────────────────┼───────────────────┼───────────────────────┼──────────────────────┤\n",
            "│ 11 │           11 │    28 │ Non-Binary │ White       │  2.77 │        1261 │ nan             │ Computer Science │              0.89 │                    13 │                    0 │\n",
            "├────┼──────────────┼───────┼────────────┼─────────────┼───────┼─────────────┼─────────────────┼──────────────────┼───────────────────┼───────────────────────┼──────────────────────┤\n",
            "│ 12 │           12 │    28 │ Male       │ Black       │  2.05 │        1260 │ nan             │ Computer Science │              0.73 │                    31 │                    1 │\n",
            "├────┼──────────────┼───────┼────────────┼─────────────┼───────┼─────────────┼─────────────────┼──────────────────┼───────────────────┼───────────────────────┼──────────────────────┤\n",
            "│ 13 │           13 │    22 │ Non-Binary │ Other       │  3.08 │        1340 │ Full            │ Business         │              0.88 │                    27 │                    1 │\n",
            "├────┼──────────────┼───────┼────────────┼─────────────┼───────┼─────────────┼─────────────────┼──────────────────┼───────────────────┼───────────────────────┼──────────────────────┤\n",
            "│ 14 │           14 │    27 │ Male       │ White       │  2.21 │        1595 │ Partial         │ Business         │              0.73 │                    27 │                    0 │\n",
            "├────┼──────────────┼───────┼────────────┼─────────────┼───────┼─────────────┼─────────────────┼──────────────────┼───────────────────┼───────────────────────┼──────────────────────┤\n",
            "│ 15 │           15 │    24 │ Female     │ White       │  2.54 │        1082 │ Partial         │ Computer Science │              0.93 │                     2 │                    0 │\n",
            "├────┼──────────────┼───────┼────────────┼─────────────┼───────┼─────────────┼─────────────────┼──────────────────┼───────────────────┼───────────────────────┼──────────────────────┤\n",
            "│ 16 │           16 │    23 │ Non-Binary │ White       │  2.97 │        1024 │ nan             │ Engineering      │              0.74 │                    14 │                    0 │\n",
            "├────┼──────────────┼───────┼────────────┼─────────────┼───────┼─────────────┼─────────────────┼──────────────────┼───────────────────┼───────────────────────┼──────────────────────┤\n",
            "│ 17 │           17 │    23 │ Male       │ Hispanic    │  2.73 │        1296 │ Partial         │ Arts             │              0.7  │                    38 │                    1 │\n",
            "├────┼──────────────┼───────┼────────────┼─────────────┼───────┼─────────────┼─────────────────┼──────────────────┼───────────────────┼───────────────────────┼──────────────────────┤\n",
            "│ 18 │           18 │    20 │ Male       │ Other       │  2.57 │         880 │ nan             │ Computer Science │              0.99 │                    27 │                    1 │\n",
            "├────┼──────────────┼───────┼────────────┼─────────────┼───────┼─────────────┼─────────────────┼──────────────────┼───────────────────┼───────────────────────┼──────────────────────┤\n",
            "│ 19 │           19 │    24 │ Male       │ White       │  3.27 │        1437 │ Partial         │ Biology          │              0.8  │                    31 │                    1 │\n",
            "├────┼──────────────┼───────┼────────────┼─────────────┼───────┼─────────────┼─────────────────┼──────────────────┼───────────────────┼───────────────────────┼──────────────────────┤\n",
            "│ 20 │           20 │    24 │ Non-Binary │ Asian       │  2.74 │        1200 │ nan             │ Biology          │              0.85 │                     5 │                    1 │\n",
            "├────┼──────────────┼───────┼────────────┼─────────────┼───────┼─────────────┼─────────────────┼──────────────────┼───────────────────┼───────────────────────┼──────────────────────┤\n",
            "│ 21 │           21 │    28 │ Non-Binary │ White       │  2.3  │         986 │ Partial         │ Biology          │              0.94 │                    35 │                    0 │\n",
            "├────┼──────────────┼───────┼────────────┼─────────────┼───────┼─────────────┼─────────────────┼──────────────────┼───────────────────┼───────────────────────┼──────────────────────┤\n",
            "│ 22 │           22 │    27 │ Non-Binary │ Asian       │  2.7  │        1510 │ Full            │ Computer Science │              0.76 │                    38 │                    1 │\n",
            "├────┼──────────────┼───────┼────────────┼─────────────┼───────┼─────────────┼─────────────────┼──────────────────┼───────────────────┼───────────────────────┼──────────────────────┤\n",
            "│ 23 │           23 │    25 │ Male       │ Asian       │  2.68 │        1272 │ Partial         │ Engineering      │              0.7  │                    15 │                    1 │\n",
            "├────┼──────────────┼───────┼────────────┼─────────────┼───────┼─────────────┼─────────────────┼──────────────────┼───────────────────┼───────────────────────┼──────────────────────┤\n",
            "│ 24 │           24 │    26 │ Male       │ Black       │  3.99 │        1053 │ Full            │ Biology          │              0.95 │                     8 │                    0 │\n",
            "├────┼──────────────┼───────┼────────────┼─────────────┼───────┼─────────────┼─────────────────┼──────────────────┼───────────────────┼───────────────────────┼──────────────────────┤\n",
            "│ 25 │           25 │    20 │ Non-Binary │ Asian       │  3.71 │         853 │ Full            │ Arts             │              0.63 │                     7 │                    1 │\n",
            "├────┼──────────────┼───────┼────────────┼─────────────┼───────┼─────────────┼─────────────────┼──────────────────┼───────────────────┼───────────────────────┼──────────────────────┤\n",
            "│ 26 │           26 │    23 │ Female     │ Asian       │  2.74 │        1272 │ nan             │ Computer Science │              0.6  │                    17 │                    1 │\n",
            "├────┼──────────────┼───────┼────────────┼─────────────┼───────┼─────────────┼─────────────────┼──────────────────┼───────────────────┼───────────────────────┼──────────────────────┤\n",
            "│ 27 │           27 │    23 │ Non-Binary │ Other       │  2.45 │         960 │ Full            │ Biology          │              0.67 │                     7 │                    0 │\n",
            "├────┼──────────────┼───────┼────────────┼─────────────┼───────┼─────────────┼─────────────────┼──────────────────┼───────────────────┼───────────────────────┼──────────────────────┤\n",
            "│ 28 │           28 │    20 │ Male       │ White       │  3.09 │        1269 │ nan             │ Biology          │              0.79 │                     7 │                    0 │\n",
            "├────┼──────────────┼───────┼────────────┼─────────────┼───────┼─────────────┼─────────────────┼──────────────────┼───────────────────┼───────────────────────┼──────────────────────┤\n",
            "│ 29 │           29 │    28 │ Female     │ Other       │  3.01 │        1083 │ nan             │ Computer Science │              0.68 │                    18 │                    1 │\n",
            "╘════╧══════════════╧═══════╧════════════╧═════════════╧═══════╧═════════════╧═════════════════╧══════════════════╧═══════════════════╧═══════════════════════╧══════════════════════╛\n"
          ]
        }
      ]
    },
    {
      "cell_type": "markdown",
      "source": [
        "DATA **PREPROCESSING**\n"
      ],
      "metadata": {
        "id": "CNNf2JMMK67g"
      }
    },
    {
      "cell_type": "code",
      "source": [
        "# Print dataset columns to check available ones\n",
        "print(\"Dataset Columns:\", df.columns)\n",
        "\n",
        "# Convert specific columns to categorical\n",
        "categorical_cols = ['Gender', 'Ethnicity', 'Financial_Aid', 'Major']  # Update with actual categorical column names\n",
        "for col in categorical_cols:\n",
        "    df[col] = df[col].astype(str)  # Ensure they are treated as categorical\n",
        "\n",
        "# Automatically detect categorical columns\n",
        "detected_categorical_cols = df.select_dtypes(include=['object']).columns.tolist()\n",
        "\n",
        "if not detected_categorical_cols:\n",
        "    raise ValueError(\"No categorical columns found! Please check dataset column names.\")\n",
        "\n",
        "print(f\"Categorical Columns Found: {detected_categorical_cols}\")\n",
        "\n",
        "# Encode categorical variables\n",
        "le = LabelEncoder()\n",
        "for col in detected_categorical_cols:\n",
        "    df[col] = le.fit_transform(df[col])\n",
        "\n",
        "# Define target variable\n",
        "target_col = 'Enrolled_Next_Year'  # Ensure this matches the dataset column\n",
        "if target_col not in df.columns:\n",
        "    raise ValueError(f\"The dataset must contain '{target_col}' as the target variable.\")\n",
        "\n",
        "y = df[target_col]\n",
        "\n",
        "# Define numerical features\n",
        "numerical_cols = df.select_dtypes(include=['int64', 'float64']).columns.tolist()\n",
        "numerical_cols.remove(target_col)  # Remove target variable\n",
        "\n",
        "# Final feature list (numerical + categorical)\n",
        "features = numerical_cols + detected_categorical_cols\n",
        "X = df[features]\n",
        "\n",
        "# Privacy protection\n",
        "def protect_privacy(data, columns):\n",
        "    protected_df = data.copy()\n",
        "    for col in columns:\n",
        "        noise = np.random.normal(0, 0.01 * protected_df[col].std(), len(protected_df))\n",
        "        protected_df[col] = protected_df[col] + noise\n",
        "    return protected_df\n",
        "\n",
        "df = protect_privacy(df, numerical_cols)\n",
        "\n",
        "# Split data\n",
        "X_train, X_test, y_train, y_test = train_test_split(X, y, test_size=0.2, random_state=42)\n",
        "\n",
        "# Scale numerical features\n",
        "scaler = StandardScaler()\n",
        "X_train_scaled = scaler.fit_transform(X_train)\n",
        "X_test_scaled = scaler.transform(X_test)\n",
        "\n",
        "print(\"Data Preprocessing Completed!\")\n",
        "print(f\"Final Features Used: {features}\")\n"
      ],
      "metadata": {
        "colab": {
          "base_uri": "https://localhost:8080/"
        },
        "id": "xaS5eXKfM9D9",
        "outputId": "e6f23c33-79ed-4639-d696-b52ff1a44cd4"
      },
      "execution_count": 56,
      "outputs": [
        {
          "output_type": "stream",
          "name": "stdout",
          "text": [
            "Dataset Columns: Index(['Student_ID', 'Age', 'Gender', 'Ethnicity', 'GPA', 'SAT_Score',\n",
            "       'Financial_Aid', 'Major', 'Attendance_Rate', 'Work_Hours_Per_Week',\n",
            "       'Enrolled_Next_Year'],\n",
            "      dtype='object')\n",
            "Categorical Columns Found: ['Gender', 'Ethnicity', 'Financial_Aid', 'Major']\n",
            "Data Preprocessing Completed!\n",
            "Final Features Used: ['Student_ID', 'Age', 'Gender', 'Ethnicity', 'GPA', 'SAT_Score', 'Financial_Aid', 'Major', 'Attendance_Rate', 'Work_Hours_Per_Week', 'Gender', 'Ethnicity', 'Financial_Aid', 'Major']\n"
          ]
        }
      ]
    },
    {
      "cell_type": "markdown",
      "source": [
        "**DATA** **SCALING**"
      ],
      "metadata": {
        "id": "R3iP_NVnOoX2"
      }
    },
    {
      "cell_type": "code",
      "source": [
        "# Split the dataset into training and testing sets\n",
        "X_train, X_test, y_train, y_test = train_test_split(X, y, test_size=0.2, random_state=42)\n",
        "\n",
        "# Scale numerical features\n",
        "scaler = StandardScaler()\n",
        "X_train_scaled = scaler.fit_transform(X_train)\n",
        "X_test_scaled = scaler.transform(X_test)\n",
        "\n",
        "print(\"Data Scaling Completed!\")\n"
      ],
      "metadata": {
        "colab": {
          "base_uri": "https://localhost:8080/"
        },
        "id": "JT6N9WHMPUZn",
        "outputId": "f6d2edd8-29d4-4335-b549-9d24f017d826"
      },
      "execution_count": 29,
      "outputs": [
        {
          "output_type": "stream",
          "name": "stdout",
          "text": [
            "Data Scaling Completed!\n"
          ]
        }
      ]
    },
    {
      "cell_type": "markdown",
      "source": [
        "**MODEL** **TRAINING**"
      ],
      "metadata": {
        "id": "L478KBLiPds2"
      }
    },
    {
      "cell_type": "code",
      "source": [
        "# Train a Random Forest model\n",
        "rf_model = RandomForestClassifier(n_estimators=100, max_depth=10, min_samples_split=5, random_state=42)\n",
        "rf_model.fit(X_train_scaled, y_train)\n",
        "\n",
        "# Make predictions\n",
        "y_pred = rf_model.predict(X_test_scaled)\n",
        "\n",
        "# Evaluate model\n",
        "print(\"Model Accuracy:\", accuracy_score(y_test, y_pred))\n",
        "print(\"\\nClassification Report:\\n\", classification_report(y_test, y_pred))\n"
      ],
      "metadata": {
        "colab": {
          "base_uri": "https://localhost:8080/"
        },
        "id": "1hP1-Qf1Pe0x",
        "outputId": "d128d605-63ce-4bf0-fa3a-4caf6815fd9d"
      },
      "execution_count": 30,
      "outputs": [
        {
          "output_type": "stream",
          "name": "stdout",
          "text": [
            "Model Accuracy: 0.51\n",
            "\n",
            "Classification Report:\n",
            "               precision    recall  f1-score   support\n",
            "\n",
            "           0       0.55      0.50      0.52       108\n",
            "           1       0.47      0.52      0.49        92\n",
            "\n",
            "    accuracy                           0.51       200\n",
            "   macro avg       0.51      0.51      0.51       200\n",
            "weighted avg       0.51      0.51      0.51       200\n",
            "\n"
          ]
        }
      ]
    },
    {
      "cell_type": "markdown",
      "source": [
        "FEATURE IMPORTANCE AND VISUALIZATION"
      ],
      "metadata": {
        "id": "Izn4YK_JPtF4"
      }
    },
    {
      "cell_type": "code",
      "source": [
        " # feature importance with correct mapping\n",
        "feature_importance = pd.DataFrame({\n",
        "    'Feature': X.columns,  # Ensure features align with the original column names\n",
        "    'Importance': rf_model.feature_importances_\n",
        "})\n",
        "\n",
        "# Sort by importance\n",
        "feature_importance = feature_importance.sort_values('Importance', ascending=False)\n",
        "\n",
        "# Display feature importance\n",
        "plt.figure(figsize=(10, 6))\n",
        "sns.barplot(x='Importance', y='Feature', data=feature_importance)\n",
        "plt.xlabel(\"Feature Importance Score\")\n",
        "plt.ylabel(\"Features\")\n",
        "plt.title(\"Feature Importance for Enrollment Prediction\")\n",
        "plt.show()\n",
        "\n",
        "# Print the feature importance values\n",
        "print(\"\\nFeature Importance:\")\n",
        "print(feature_importance)\n"
      ],
      "metadata": {
        "colab": {
          "base_uri": "https://localhost:8080/",
          "height": 875
        },
        "id": "UREoRT_fPvAA",
        "outputId": "dd7b8bd9-199e-4010-bfb3-d1bbd206a3df"
      },
      "execution_count": 43,
      "outputs": [
        {
          "output_type": "display_data",
          "data": {
            "text/plain": [
              "<Figure size 1000x600 with 1 Axes>"
            ],
            "image/png": "[encoded data removed]"
          },
          "metadata": {}
        },
        {
          "output_type": "stream",
          "name": "stdout",
          "text": [
            "\n",
            "Feature Importance:\n",
            "                Feature  Importance\n",
            "0            Student_ID    0.143029\n",
            "5             SAT_Score    0.137844\n",
            "4                   GPA    0.133560\n",
            "8       Attendance_Rate    0.123279\n",
            "9   Work_Hours_Per_Week    0.116740\n",
            "1                   Age    0.086862\n",
            "11            Ethnicity    0.040403\n",
            "3             Ethnicity    0.039169\n",
            "7                 Major    0.039062\n",
            "13                Major    0.037438\n",
            "12        Financial_Aid    0.028821\n",
            "6         Financial_Aid    0.026454\n",
            "10               Gender    0.024706\n",
            "2                Gender    0.022633\n"
          ]
        }
      ]
    },
    {
      "cell_type": "markdown",
      "source": [
        "**PREDICTIONS**"
      ],
      "metadata": {
        "id": "t7Z9LS64QBen"
      }
    },
    {
      "cell_type": "code",
      "source": [
        "\n",
        "\n",
        "\n",
        "\n",
        "# Define required features\n",
        "features = ['Age', 'Gender', 'Ethnicity', 'GPA', 'SAT_Score',\n",
        "            'Financial_Aid', 'Major', 'Attendance_Rate', 'Work_Hours_Per_Week']\n",
        "\n",
        "# Ensure all features are present\n",
        "missing_features = [col for col in features if col not in df.columns]\n",
        "if missing_features:\n",
        "    raise KeyError(f\"Missing features from dataset: {missing_features}\")\n",
        "\n",
        "# Encode categorical variables\n",
        "df_encoded = pd.get_dummies(df[features], drop_first=True)\n",
        "\n",
        "# Align features manually instead of using feature_names_in_\n",
        "expected_features = list(rf_model.feature_importances_)  # Get features from trained model\n",
        "df_encoded = df_encoded.reindex(columns=expected_features, fill_value=0)\n",
        "\n",
        "# Scale numerical features\n",
        "df_scaled = scaler.transform(df_encoded)\n",
        "\n",
        "# Make predictions\n",
        "predictions = rf_model.predict(df_scaled)\n",
        "probabilities = rf_model.predict_proba(df_scaled)[:, 1]\n",
        "\n",
        "# Create table of results\n",
        "results = df[['Student_ID']].copy()\n",
        "results['Enrollment_Probability (%)'] = (probabilities * 100).round(1)\n",
        "results['Prediction'] = [\"Likely to Enroll\" if pred == 1 else \"May Not Enroll\" for pred in predictions]\n",
        "\n",
        "# Show table\n",
        "print(\"\\nPredictions Table:\")\n",
        "print(results.head(20).to_string(index=False))  # Show first 20 results\n",
        "\n",
        "# Save to CSV\n",
        "results.to_csv(\"student_enrollment_predictions.csv\", index=False)\n",
        "print(\"\\nPredictions saved to 'student_enrollment_predictions.csv'\")\n"
      ],
      "metadata": {
        "colab": {
          "base_uri": "https://localhost:8080/"
        },
        "id": "QPuZWyruZqEJ",
        "outputId": "a6ae4d0b-6f14-4946-9a74-4fc4a4ec3e85"
      },
      "execution_count": 57,
      "outputs": [
        {
          "output_type": "stream",
          "name": "stdout",
          "text": [
            "\n",
            "Predictions Table:\n",
            " Student_ID  Enrollment_Probability (%)     Prediction\n",
            "   2.107657                        46.0 May Not Enroll\n",
            "  -4.598317                        46.0 May Not Enroll\n",
            "   3.535935                        46.0 May Not Enroll\n",
            "   5.886231                        46.0 May Not Enroll\n",
            "   7.087167                        46.0 May Not Enroll\n",
            "   4.233774                        46.0 May Not Enroll\n",
            "   5.781544                        46.0 May Not Enroll\n",
            "   6.970424                        46.0 May Not Enroll\n",
            "   7.343638                        46.0 May Not Enroll\n",
            "   5.592667                        46.0 May Not Enroll\n",
            "   7.250184                        46.0 May Not Enroll\n",
            "  12.368998                        46.0 May Not Enroll\n",
            "  11.182524                        46.0 May Not Enroll\n",
            "  12.912823                        46.0 May Not Enroll\n",
            "  16.776433                        46.0 May Not Enroll\n",
            "  14.842222                        46.0 May Not Enroll\n",
            "  12.322929                        46.0 May Not Enroll\n",
            "  22.995900                        46.0 May Not Enroll\n",
            "  16.762266                        46.0 May Not Enroll\n",
            "  17.595231                        46.0 May Not Enroll\n",
            "\n",
            "Predictions saved to 'student_enrollment_predictions.csv'\n"
          ]
        },
        {
          "output_type": "stream",
          "name": "stderr",
          "text": [
            "/usr/local/lib/python3.11/dist-packages/sklearn/utils/validation.py:2739: UserWarning: X does not have valid feature names, but StandardScaler was fitted with feature names\n",
            "  warnings.warn(\n"
          ]
        }
      ]
    }
  ]
}